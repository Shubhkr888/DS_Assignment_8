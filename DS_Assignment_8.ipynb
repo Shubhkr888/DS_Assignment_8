{
  "nbformat": 4,
  "nbformat_minor": 0,
  "metadata": {
    "colab": {
      "provenance": []
    },
    "kernelspec": {
      "name": "python3",
      "display_name": "Python 3"
    },
    "language_info": {
      "name": "python"
    }
  },
  "cells": [
    {
      "cell_type": "code",
      "execution_count": 1,
      "metadata": {
        "id": "4avkuwR_L2d5"
      },
      "outputs": [],
      "source": [
        "#Q2\n",
        "def isValid(s):\n",
        "    # Stack for left symbols\n",
        "    leftSymbols = []\n",
        "    # Loop for each character of the string\n",
        "    for c in s:\n",
        "        # If left symbol is encountered\n",
        "        if c in ['(', '{', '[']:\n",
        "            leftSymbols.append(c)\n",
        "        # If right symbol is encountered\n",
        "        elif c == ')' and len(leftSymbols) != 0 and leftSymbols[-1] == '(':\n",
        "            leftSymbols.pop()\n",
        "        elif c == '}' and len(leftSymbols) != 0 and leftSymbols[-1] == '{':\n",
        "            leftSymbols.pop()\n",
        "        elif c == ']' and len(leftSymbols) != 0 and leftSymbols[-1] == '[':\n",
        "            leftSymbols.pop()\n",
        "        # If none of the valid symbols is encountered\n",
        "        else:\n",
        "            return False\n",
        "    return leftSymbols == []"
      ]
    },
    {
      "cell_type": "code",
      "source": [
        "W1 = \"sea\"\n",
        "W2 = \"eat\"\n",
        "class Solution:\n",
        "    def minDistance(self, W1,W2):\n",
        "        m, n = len(W1), len(W2)\n",
        "        if m < n: W1, W2, m, n = W2, W1, n, m\n",
        "        dpLast, dpCurr = [0] * (n + 1), [0] * (n + 1)\n",
        "        for c1 in W1:\n",
        "            for j in range(n):\n",
        "                dpCurr[j+1] = dpLast[j] + 1 if c1 == W2[j] else max(dpCurr[j], dpLast[j+1])\n",
        "            dpLast, dpCurr = dpCurr, dpLast\n",
        "        return m + n - 2 * dpLast[n]"
      ],
      "metadata": {
        "id": "atGPZoDaNuUI"
      },
      "execution_count": 11,
      "outputs": []
    },
    {
      "cell_type": "code",
      "source": [
        "chars = [\"a\",\"a\",\"b\",\"b\",\"c\",\"c\",\"c\"]\n",
        "def compress(self, chars):\n",
        "        i = 0\n",
        "        while i < len(chars):\n",
        "            count = 0\n",
        "            for char in chars[i:]:\n",
        "                if char != chars[i]:\n",
        "                    break\n",
        "                count += 1\n",
        "            if count != 1:\n",
        "              list_appending = list(str(count))\n",
        "              chars[i+1:i+count] = list_appending\n",
        "              i += 1 + len(list_appending)\n",
        "            else:\n",
        "              i += 1\n",
        "\n",
        "        return len(chars)"
      ],
      "metadata": {
        "id": "IVFrj4cRNh5w"
      },
      "execution_count": 9,
      "outputs": []
    },
    {
      "cell_type": "code",
      "source": [
        "#Q7\n",
        "s = \"3[a]2[bc]\"\n",
        "def decodeString(self, s):\n",
        "        num = 0\n",
        "        string = ''\n",
        "        stack = []\n",
        "        for c in s:\n",
        "            if c.isdigit():\n",
        "                num = num*10 + int(c)\n",
        "            elif c == \"[\":\n",
        "                stack.append(string)\n",
        "                stack.append(num)\n",
        "                string = ''\n",
        "                num = 0\n",
        "            elif c.isalpha():\n",
        "                string += c\n",
        "            elif c == ']':\n",
        "                pre_num = stack.pop()\n",
        "                pre_string = stack.pop()\n",
        "                string = pre_string + pre_num * string\n",
        "        return string"
      ],
      "metadata": {
        "id": "f6lylYcnNKvv"
      },
      "execution_count": 8,
      "outputs": []
    },
    {
      "cell_type": "code",
      "source": [
        "#Q8\n",
        "s = \"ab\"\n",
        "goal = \"ba\"\n",
        "class Solution:\n",
        "    def buddyStrings(self, s,goal):\n",
        "        m, n = len(s), len(goal)\n",
        "        if m != n:\n",
        "            return False\n",
        "        cnt1, cnt2 = Counter(s), Counter(goal)\n",
        "        if cnt1 != cnt2:\n",
        "            return False\n",
        "        diff = sum(s[i] != goal[i] for i in range(n))\n",
        "        return diff == 2 or (diff == 0 and any(v > 1 for v in cnt1.values()))"
      ],
      "metadata": {
        "id": "Vofbd0k3MB8L"
      },
      "execution_count": 7,
      "outputs": []
    },
    {
      "cell_type": "code",
      "source": [],
      "metadata": {
        "id": "X5qGA20vMpTz"
      },
      "execution_count": null,
      "outputs": []
    }
  ]
}